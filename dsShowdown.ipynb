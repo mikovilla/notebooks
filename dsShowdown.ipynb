{
 "cells": [
  {
   "cell_type": "code",
   "execution_count": 28,
   "id": "5b26108d-b776-4948-b95d-8902f2c5701e",
   "metadata": {},
   "outputs": [
    {
     "name": "stdout",
     "output_type": "stream",
     "text": [
      "SPECIFICATIONS: \n",
      "Total number of words: 102217.\n",
      "Length of all words combined: 898571.\n",
      "Length of all definitions combined: 20882783\n",
      "\n",
      "HashMap Insertion (13) time: 204 milliseconds\n",
      "HashMap Insertion (13) memory consumption: 5985304 bytes\n",
      "Binary Search Tree Insertion (39) time: 584 milliseconds\n",
      "Binary Search Tree Insertion (39) memory consumption: 9262120 bytes\n",
      "\n",
      "Binary Search Tree LookUp (39) time: 215 milliseconds\n",
      "Binary Search Tree LookUp (39) memory consumption: 64 bytes\n",
      "HashMap LookUp (13) time: 108 milliseconds\n",
      "HashMap LookUp (13) memory consumption: 5984 bytes\n",
      "\n",
      "programme (HMAP Definition): That which is written or printed as a public notice or advertisement; a scheme; a prospectus; especially, a brief outline or explanation of the order to be pursued, or the subjects embraced, in any public exercise, performance, or entertainment; a preliminary sketch. Programme music (Mus.), descriptive instrumental music which requires an argument or programme to explain the meaning of its several movements.\n",
      "programme (TREE Definition): That which is written or printed as a public notice or advertisement; a scheme; a prospectus; especially, a brief outline or explanation of the order to be pursued, or the subjects embraced, in any public exercise, performance, or entertainment; a preliminary sketch. Programme music (Mus.), descriptive instrumental music which requires an argument or programme to explain the meaning of its several movements.\n"
     ]
    }
   ],
   "source": [
    "#r \"C:\\Users\\dev\\solutions\\ds_showdown\\ds.Main\\bin\\Debug\\net8.0\\ds.Domain.dll\"\n",
    "#r \"C:\\Users\\dev\\solutions\\ds_showdown\\ds.Main\\bin\\Debug\\net8.0\\ds.Application.dll\"\n",
    "#r \"C:\\Users\\dev\\solutions\\ds_showdown\\ds.Main\\bin\\Debug\\net8.0\\ds.Utility.dll\"\n",
    "#r \"C:\\Users\\dev\\solutions\\ds_showdown\\ds.Main\\bin\\Debug\\net8.0\\ds.Main.dll\"\n",
    "#r \"C:\\Users\\dev\\solutions\\ds_showdown\\ds.Main\\bin\\Debug\\net8.0\\Newtonsoft.Json.dll\"\n",
    "\n",
    "using ds.Application;\n",
    "using ds.Main;\n",
    "using ds.Utility;\n",
    "using Newtonsoft.Json;\n",
    "using System.IO;\n",
    "using System.Collections.Concurrent;\n",
    "using System.Threading;\n",
    "\n",
    "Dictionary<string, string> englishDictionary = JsonConvert.DeserializeObject<Dictionary<string, string>>(File.ReadAllText(@\"C:\\Users\\dev\\solutions\\ds_showdown\\ds.Main\\dictionary.json\")) ?? new Dictionary<string, string>();\n",
    "englishDictionary.GetIntroduction();\n",
    "\n",
    "Dictionary<string, string> hashMap = new Dictionary<string, string>();\n",
    "BinarySearchTree tree = new BinarySearchTree();\n",
    "\n",
    "var threadIds = new ConcurrentBag<int>();\n",
    "string wordToSearch = \"programme\";\n",
    "\n",
    "Parallel.Invoke(\n",
    "    () =>\n",
    "    {\n",
    "        int threadId = Thread.CurrentThread.ManagedThreadId;\n",
    "        threadIds.Add(threadId);\n",
    "        string hashMapInsertionMetrics = Instrumentation.GetMetrics($\"HashMap Insertion ({threadId})\", () =>\n",
    "        {\n",
    "            hashMap.IterateInsert(englishDictionary);\n",
    "        });\n",
    "        hashMapInsertionMetrics.DisplayInfo(hm => Console.WriteLine(hm));\n",
    "    },\n",
    "    () =>\n",
    "    {\n",
    "        int threadId = Thread.CurrentThread.ManagedThreadId;\n",
    "        threadIds.Add(threadId);\n",
    "        string treeInsertionMetrics = Instrumentation.GetMetrics($\"Binary Search Tree Insertion ({threadId})\", () =>\n",
    "        {\n",
    "            tree.IterateInsert(englishDictionary);\n",
    "        });\n",
    "        treeInsertionMetrics.DisplayInfo(bst => Console.WriteLine(bst));\n",
    "    }\n",
    ");\n",
    "\n",
    "string hMapDefinition = string.Empty, treeDefinition = string.Empty;\n",
    "GC.Collect();\n",
    "Parallel.Invoke(\n",
    "    () =>\n",
    "    {\n",
    "        int threadId = Thread.CurrentThread.ManagedThreadId;\n",
    "        threadIds.Add(threadId);\n",
    "        Console.WriteLine();\n",
    "        string hashMapSearchMetrics = Instrumentation.GetMetrics($\"HashMap LookUp ({threadId})\", () =>\n",
    "        {\n",
    "            hMapDefinition = hashMap[wordToSearch]!;\n",
    "        });\n",
    "        hashMapSearchMetrics.DisplayInfo(hm => Console.WriteLine(hm));\n",
    "    },\n",
    "    () =>\n",
    "    {\n",
    "        int threadId = Thread.CurrentThread.ManagedThreadId;\n",
    "        threadIds.Add(threadId);\n",
    "        string treeSearchMetrics = Instrumentation.GetMetrics($\"Binary Search Tree LookUp ({threadId})\", () =>\n",
    "        {\n",
    "            treeDefinition = tree.Search(\"programme\")!;\n",
    "        });\n",
    "        treeSearchMetrics.DisplayInfo(bst => Console.WriteLine(bst));\n",
    "    }\n",
    ");\n",
    "\n",
    "Extra.GetOutro(\n",
    "    $\"{wordToSearch} (HMAP Definition): {hMapDefinition}\",\n",
    "    $\"{wordToSearch} (TREE Definition): {treeDefinition}\"\n",
    ");"
   ]
  },
  {
   "cell_type": "code",
   "execution_count": 16,
   "id": "42b5cce4-b064-433e-b51b-b71aca44bb5c",
   "metadata": {},
   "outputs": [
    {
     "name": "stdout",
     "output_type": "stream",
     "text": [
      "2"
     ]
    }
   ],
   "source": []
  },
  {
   "cell_type": "code",
   "execution_count": null,
   "id": "317e9fc6-5fc2-4cfd-a602-9d5c9c6f4c78",
   "metadata": {},
   "outputs": [],
   "source": []
  }
 ],
 "metadata": {
  "kernelspec": {
   "display_name": ".NET (C#)",
   "language": "C#",
   "name": ".net-csharp"
  },
  "language_info": {
   "file_extension": ".cs",
   "mimetype": "text/x-csharp",
   "name": "C#",
   "pygments_lexer": "csharp",
   "version": "13.0"
  }
 },
 "nbformat": 4,
 "nbformat_minor": 5
}
