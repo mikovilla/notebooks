{
 "cells": [
  {
   "cell_type": "code",
   "execution_count": 13,
   "id": "7eef7115-ff1b-4662-9de4-1e130e5c5b81",
   "metadata": {},
   "outputs": [
    {
     "name": "stdout",
     "output_type": "stream",
     "text": [
      "[[1, 0, -1], [1, 0, -1], [1, 0, -1]]\n"
     ]
    }
   ],
   "source": [
    "import cv2\n",
    "import numpy as np\n",
    "\n",
    "x3kernel = [\n",
    "    [1, 0, -1],\n",
    "    [1, 0, -1],\n",
    "    [1, 0, -1],\n",
    "]\n",
    "print(x3kernel)"
   ]
  },
  {
   "cell_type": "code",
   "execution_count": 103,
   "id": "9d61a8a4-e181-41ff-a8d5-b576e2285c79",
   "metadata": {},
   "outputs": [
    {
     "name": "stdout",
     "output_type": "stream",
     "text": [
      "[[ 1  3]\n",
      " [ 5  7]\n",
      " [ 9 11]\n",
      " [13 15]]\n"
     ]
    }
   ],
   "source": [
    "x3img = cv2.imread('C:/Users/dev/solutions/PSMDSSC103-MIT12G1/3x3.png', cv2.IMREAD_COLOR)\n",
    "# Create a 2D array\n",
    "matrix = np.array([[1, 2, 3, 4],\n",
    "                   [5, 6, 7, 8],\n",
    "                   [9, 10, 11, 12],\n",
    "                   [13, 14, 15, 16]])\n",
    "\n",
    "# Slice the matrix with a stride of 1x2\n",
    "strided_matrix = matrix[::1, ::2]\n",
    "print(strided_matrix);"
   ]
  },
  {
   "cell_type": "code",
   "execution_count": 45,
   "id": "68c8d965-82ac-4b61-a081-99567927aaf5",
   "metadata": {},
   "outputs": [
    {
     "name": "stdout",
     "output_type": "stream",
     "text": [
      "[[[ 36  28 237]\n",
      "  [ 76 177  34]\n",
      "  [204  72  63]]\n",
      "\n",
      " [[255 255 255]\n",
      "  [201 174 255]\n",
      "  [  0   0   0]]\n",
      "\n",
      " [[164  73 163]\n",
      "  [  0 242 255]\n",
      "  [190 146 112]]]\n"
     ]
    }
   ],
   "source": [
    "x3matrix = np.array(x3img)\n",
    "print(x3matrix)"
   ]
  },
  {
   "cell_type": "code",
   "execution_count": 47,
   "id": "9865c2a2-352b-441f-a196-86e993c0a097",
   "metadata": {},
   "outputs": [
    {
     "name": "stdout",
     "output_type": "stream",
     "text": [
      "Blue channel matrix:\n",
      "[[ 36  76 204]\n",
      " [255 201   0]\n",
      " [164   0 190]]\n",
      "Green channel matrix:\n",
      "[[ 28 177  72]\n",
      " [255 174   0]\n",
      " [ 73 242 146]]\n",
      "Red channel matrix:\n",
      "[[237  34  63]\n",
      " [255 255   0]\n",
      " [163 255 112]]\n"
     ]
    }
   ],
   "source": [
    "# Accessing the individual color channels (B, G, R)\n",
    "blue_channel = x3matrix[:, :, 0]\n",
    "green_channel = x3matrix[:, :, 1]\n",
    "red_channel = x3matrix[:, :, 2]\n",
    "\n",
    "print(\"Blue channel matrix:\")\n",
    "print(blue_channel)\n",
    "print(\"Green channel matrix:\")\n",
    "print(green_channel)\n",
    "print(\"Red channel matrix:\")\n",
    "print(red_channel)"
   ]
  },
  {
   "cell_type": "code",
   "execution_count": 107,
   "id": "1fe9d834-51e8-465e-9664-b3dbc4b8ce2d",
   "metadata": {},
   "outputs": [
    {
     "name": "stdout",
     "output_type": "stream",
     "text": [
      "[[[ 36  28 237]\n",
      "  [  0 242 255]]\n",
      "\n",
      " [[ 76 177  34]\n",
      "  [204  72  63]]]\n"
     ]
    }
   ],
   "source": [
    "x2img = cv2.imread('C:/Users/dev/solutions/PSMDSSC103-MIT12G1/2x2.png', cv2.IMREAD_COLOR)\n",
    "x2matrix = np.array(x2img)\n",
    "print(x2matrix)"
   ]
  },
  {
   "cell_type": "code",
   "execution_count": 93,
   "id": "679b8f94-2f8a-4ced-8e2f-cc7803635de7",
   "metadata": {},
   "outputs": [
    {
     "name": "stdout",
     "output_type": "stream",
     "text": [
      "[[[  0   0   0]\n",
      "  [  0   0   0]\n",
      "  [  0   0   0]]\n",
      "\n",
      " [[ 36  28 237]\n",
      "  [  0 242 255]\n",
      "  [  0   0   0]]\n",
      "\n",
      " [[ 76 177  34]\n",
      "  [204  72  63]\n",
      "  [  0   0   0]]\n",
      "\n",
      " [[  0   0   0]\n",
      "  [  0   0   0]\n",
      "  [  0   0   0]]]\n"
     ]
    }
   ],
   "source": [
    "# pad a 2x2x3 matrix to 3x3x3\n",
    "padded_x2matrix = np.pad(x2matrix, pad_width=((0, 1), (0, 1), (0, 0)), mode='constant', constant_values=0)\n",
    "print(padded_x2matrix)"
   ]
  },
  {
   "cell_type": "code",
   "execution_count": null,
   "id": "15a40291-6b79-4bcf-8b2a-3f004b84b9f4",
   "metadata": {},
   "outputs": [],
   "source": []
  }
 ],
 "metadata": {
  "kernelspec": {
   "display_name": "Python 3 (ipykernel)",
   "language": "python",
   "name": "python3"
  },
  "language_info": {
   "codemirror_mode": {
    "name": "ipython",
    "version": 3
   },
   "file_extension": ".py",
   "mimetype": "text/x-python",
   "name": "python",
   "nbconvert_exporter": "python",
   "pygments_lexer": "ipython3",
   "version": "3.7.16"
  }
 },
 "nbformat": 4,
 "nbformat_minor": 5
}
